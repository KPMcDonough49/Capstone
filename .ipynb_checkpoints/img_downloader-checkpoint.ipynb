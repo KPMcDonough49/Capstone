{
 "cells": [
  {
   "cell_type": "code",
   "execution_count": 1,
   "metadata": {},
   "outputs": [
    {
     "name": "stderr",
     "output_type": "stream",
     "text": [
      "[========================================================================] 100%\n",
      "[========================================================================] 100%\r"
     ]
    },
    {
     "name": "stdout",
     "output_type": "stream",
     "text": [
      "['https://www.woundsource.com/sites/default/files/patient-condition/amputation_site_infected_and_sloughy.jpg', 'https://hytape.com/wp-content/uploads/2021/01/infected-foot.jpg', 'https://www.woundsource.com/sites/default/files/patient-condition/infected_toe_nail_bed.jpg', 'https://www.suncoastucc.com/wp-content/uploads/2013/01/istock_000012019091small-300x199.jpg', 'https://www.molnlycke.com/contentassets/e7c57cea1e524112a71df5698d49aef2/leg-ulcer.jpg', 'https://www.theveterinarynurse.com/media/211728/vetn-2020-11-10-447_f06.jpg', 'https://media.springernature.com/lw685/springer-static/image/art%3A10.1186%2Fs12967-019-2111-0/MediaObjects/12967_2019_2111_Fig1_HTML.png', 'https://sanaramedtech.com/wp-content/uploads/2021/02/Wound-Infection-Blog-2-1.jpg', 'https://urgentmednetwork.com/wp-content/uploads/2018/10/How-to-Tell-if-a-Wound-is-Infected.Featured.png', 'https://www.fairview.org/hlimg/krames/444061.jpg', 'https://post.healthline.com/wp-content/uploads/2020/09/bandaid_knee_child-732x549-thumbnail-732x549.jpg', 'https://www.doomandbloom.net/wp-content/uploads/2014/03/shutterstock_161673146.jpg', 'https://cdn-prod.medicalnewstoday.com/content/images/articles/325/325040/girl-with-bandage-on-knee-wondering-how-to-treat-an-infected-wound.jpg', 'https://healthtimes.com.au/administrator/uploads/mrsa-infect.jpg', 'https://urgentmednetwork.com/wp-content/uploads/2018/10/How-to-Tell-if-a-Wound-Is-Infected.2.png', 'https://image.shutterstock.com/image-photo/isolated-wounded-leg-white-background-260nw-304486712.jpg', 'https://www.woundsource.com/sites/default/files/blogs/wound_healthin_pathophysiology_small.jpg', 'https://dermnetnz.org/assets/Uploads/bacterial/wound-infection2__ProtectWyJQcm90ZWN0Il0_FocusFillWzI5NCwyMjIsIngiLDFd.jpg', 'https://c8.alamy.com/comp/JFFWBB/wound-JFFWBB.jpg', 'https://www.diabetes.co.uk/wp-content/uploads/2019/01/Wound-on-his-leg-man-foot-ulcer_Medium.jpg', 'https://assets.cureus.com/uploads/figure/file/170533/lightbox_1232d8c038cf11ebb27b833e6050a5bf-maggot-final.png', 'https://www.firstaidforfree.com/wp-content/uploads/2014/11/Infected-cut.jpg', 'https://www.clinimed.co.uk/images/necrotic-scab-odour-clinimed.jpg', 'https://images.medicinenet.com/images/article/main_image/puncture-wound.jpg', 'https://dermnetnz.org/assets/Uploads/bacterial/wound-infection1__ProtectWyJQcm90ZWN0Il0_FocusFillWzI5NCwyMjIsIngiLDFd.jpg', 'https://www.researchgate.net/profile/Gregory-Schultz-2/publication/320769536/figure/fig3/AS:571039877996544@1513157924251/CLINICAL-SIGNS-OF-WOUND-INFECTION_Q640.jpg', 'https://cdn.ps.emap.com/wp-content/uploads/sites/3/2018/06/M3300921-Infected_wound-SPL_660.jpg', 'https://images-prod.healthline.com/hlcmsresource/images/Image-Galleries/infected-cut/7403-skin_infection_from_cut-648x364-slide2.jpg', 'https://cdn.shopify.com/s/files/1/0516/6143/9163/articles/Insta_WoundInfection_001_medium.jpg?v', 'https://image.shutterstock.com/image-photo/post-operative-wound-infection-signs-260nw-1120805936.jpg', 'https://physicianoneurgentcare.com/wp-content/uploads/2014/10/15-wound-signs.jpg', 'https://media.sciencephoto.com/c0/04/42/20/c0044220-400px-wm.jpg', 'https://i.ytimg.com/vi/5apRdsdHy-A/hqdefault.jpg', 'https://www.layoffpain.com/blog/wp-content/uploads/sites/6/2019/02/How-to-Heal-an-Infected-Wound.jpg', 'https://legacyer.com/wp-content/uploads/2019/05/infectedwound_orig.jpg', 'https://dfwwoundcarecenter.com/wp-content/uploads/13567930_l1-237x300.jpg', 'https://c8.alamy.com/comp/2C99AMF/doctor-applying-medicine-to-infected-wound-on-the-patients-foot-2C99AMF.jpg', 'https://assets.universityurgent.care/Images/Sites/U/UniversityUrgentCare/567060.jpg?crop', 'https://img.webmd.com/dtmcms/live/webmd/consumer_assets/site_images/articles/health_tools/how_does_my_wound_heal_slideshow/493ss_science_source_rm_infected_wound_on_mans_leg.jpg?resize', 'https://www.bbraun.co.uk/content/dam/b-braun/global/website/products-and-therapies/wound-management/misc/Infected%20wound.jpg.transform/650/image.jpg', 'https://i.ytimg.com/vi/sxsVhgd_efw/maxresdefault.jpg', 'https://static.wikia.nocookie.net/greenhell_gamepedia_en/images/9/95/Infection_closeup.jpg/revision/latest/scale-to-width-down/400?cb', 'https://1psr53262shenuptt2xheajw-wpengine.netdna-ssl.com/wp-content/uploads/2019/02/diabetic-wound-care-1200x900.jpg', 'https://els-jbs-prod-cdn.jbs.elsevierhealth.com/cms/attachment/ff1ff7c7-2e9c-4b94-9bd4-b46d1c1d32d2/gr1.jpg', 'https://www.researchgate.net/profile/Piya-Ghatak/publication/255737623/figure/fig9/AS:669636492283917@1536665189959/Digital-photos-and-gram-staining-of-deep-sternal-wound-infection-in-two-patients.png', 'https://images-wixmp-ed30a86b8c4ca887773594c2.wixmp.com/f/a77391a0-c791-4673-b5f7-d536293d7e92/d6qriag-09f89036-794e-41e3-a914-970caef437e9.jpg/v1/fill/w_1280,h_960,q_75,strp/infected_wound_2_by_victorianspectre_d6qriag-fullview.jpg?token', 'https://dfwwoundcarecenter.com/wp-content/uploads/open-foot-wound.sm_.jpg', 'https://image.shutterstock.com/image-photo/zooming-closeup-macro-view-ulcerative-260nw-1127165828.jpg', 'https://www.cdc.gov/groupastrep/images/cellulitis.jpg', 'https://c8.alamy.com/comp/W3NENP/infected-wound-of-diabetic-foot-W3NENP.jpg']\n"
     ]
    },
    {
     "name": "stderr",
     "output_type": "stream",
     "text": [
      "\n"
     ]
    }
   ],
   "source": [
    "from simple_image_download import simple_image_download as simp\n",
    "\n",
    "response = simp.simple_image_download\n",
    "\n",
    "response().download('infected wound', 50)\n",
    "\n",
    "print(response().urls('infected wound', 50))"
   ]
  },
  {
   "cell_type": "code",
   "execution_count": 2,
   "metadata": {},
   "outputs": [
    {
     "name": "stderr",
     "output_type": "stream",
     "text": [
      "[========================================================================] 100%\n",
      "[========================================================================] 100%\r"
     ]
    },
    {
     "name": "stdout",
     "output_type": "stream",
     "text": [
      "['https://static.wixstatic.com/media/nsplsh_51777862593973436a6467~mv2_d_5616_3744_s_4_2.jpg/v1/fill/w_1000,h_667,al_c,q_90,usm_0.66_1.00_0.01/nsplsh_51777862593973436a6467~mv2_d_5616_3744_s_4_2.jpg', 'https://www.veterinarypracticenews.com/wp-content/uploads/2018/06/SA-SI-1.jpg', 'https://ars.els-cdn.com/content/image/1-s2.0-S1015958413000638-gr2.jpg', 'https://i0.wp.com/images-prod.healthline.com/hlcmsresource/images/topic_centers/skin-disorders/642x361_Slide_1_Skin_Infections.jpg?w', 'https://i.redd.it/y6tczxxl4kl31.jpg', 'https://www.researchgate.net/profile/Andrew-Hsu/publication/278036466/figure/fig2/AS:294364187250689@1447193299340/A-Example-of-postoperative-superficial-wound-infection-5-weeks-after-open-Achilles.png', 'https://www.atdove.org/sites/atdove.org/files/article-images/Surgical-Site-Infection-and-Surveillance/Surgical-Site-Infections-Inflammation.jpg', 'https://www.researchgate.net/profile/Julien-Hasselmann/publication/335950182/figure/fig3/AS:805279830642695@1569005081458/Surgical-site-infection-after-right-femoral-thrombendarterectomy_Q640.jpg', 'https://images-prod.healthline.com/hlcmsresource/images/topic_centers/2018-9/Infected_post_surgical_wound-1296x728-Gallery1.jpg', 'https://i.imgur.com/ZuAz67r.jpg', 'https://d3i71xaburhd42.cloudfront.net/e0ad9a03bb36b6007d60c6abe8d2d63859ccc644/2-Figure1-1.png', 'https://i.redd.it/cbl25yv5rrs11.jpg', 'https://www.researchgate.net/profile/Yukikatsu-Okada/publication/44607091/figure/fig1/AS:280428398301221@1443870748989/Postoperative-photograph-of-wound-on-day-10-after-surgery-a-Signs-of-infection-are-not_Q640.jpg', 'https://www.se-ortho.com/wp-content/uploads/2018/12/Southeast-Orthopedic-Specialists_Reduce-Infection-after-Knee-Replacement-Surgery_IMAGE-2-300x195.jpeg', 'https://d3i71xaburhd42.cloudfront.net/037140333b83e20dc965b90a9183578ca7bb9d21/2-Figure1-1.png', 'https://monib-health.com/files/blog-post/tinymce/Infection_after_knee_surgery-1296x728-gallery_slide2.jpg', 'https://els-jbs-prod-cdn.jbs.elsevierhealth.com/cms/attachment/d5c868dd-04f9-4eb5-9699-3be329ede936/gr1.jpg', 'https://bjgp.org/content/bjgp/67/655/88/F2.large.jpg', 'https://image.shutterstock.com/image-photo/zooming-closeup-macro-view-ulcerative-260nw-1127165828.jpg', 'https://iraniansurgery.com/wp-content/uploads/Signs-of-Infection-after-Laparoscopic-Surgery.jpg', 'https://d3lx5qxvlt4opm.cloudfront.net/topic_images/Knee_replacement_incision_redness.png', 'https://www.littleearthlingblog.com/wp-content/uploads/2017/01/staph-infection-g-tube-removal-surgery-.jpg', 'https://radiusanesthesia.com/wp-content/uploads/2018/09/Concentrating-surgeons-performing-operation-in-operating-room-520020367_3413x5120-1.jpeg', 'https://www.statnews.com/wp-content/uploads/2017/04/MysteryInfection_Illustration_MollyFerguson_041117-645x645.jpg', 'https://assets.cureus.com/uploads/figure/file/72616/lightbox_48c138409db311e99848cfa8cbca7ce7-Screen-Shot-2019-07-03-at-9.52.10-AM.png', 'https://monib-health.com/files/blog-post/tinymce/800wm.jpg', 'https://media.springernature.com/lw685/springer-static/image/art%3A10.1186%2Fs12891-018-2285-2/MediaObjects/12891_2018_2285_Fig1_HTML.png', 'https://i.ytimg.com/vi/3wevbewGWRk/hqdefault.jpg', 'https://cached.imagescaler.hbpl.co.uk/resize/scaleWidth/800/cached.offlinehbpl.hbpl.co.uk/news/PGH/knee1-2013082809551210.jpg', 'https://assets.aboutkidshealth.ca/akhassets/PMD_limb_reconstruction_complication_EN.jpg?RenditionID', 'https://www.researchgate.net/publication/319061612/figure/fig1/AS:614247184736257@1523459349416/Drainage-from-an-infected-arthroscopy-portal-immediately-before-the-arthroscopic_Q320.jpg', 'https://i.redd.it/it5dlnjqtwy01.jpg', 'https://www.laparoscopyhospital.com/picture/portinfection.jpg', 'https://d3i71xaburhd42.cloudfront.net/4dfd651fb3ef0a2b4de0a03fb6cdf1f8c8383129/3-Figure1-1.png', 'https://post.healthline.com/wp-content/uploads/2018/11/Surgery_Hospital_Male-732x549-Thumbnail.jpg', 'https://cdn.sepsis.org/wp-content/uploads/2019/02/surgery-iStock-654617646.jpg', 'https://i.ytimg.com/vi/HoEVJfsat7w/maxresdefault.jpg', 'https://i.pinimg.com/originals/95/1b/31/951b314ada8330a3c977ed2ec2381240.png', 'https://www.laspine.com/wp-content/uploads/2017/02/Guy-with-Spine-Pain.jpg', 'https://emj.emg-health.com/wp-content/uploads/sites/2/2018/09/Figure-2-Arthroscopic-images-obtained.jpg', 'https://www.se-ortho.com/wp-content/uploads/2018/12/Southeast-Orthopedic-Specialists_Reduce-Infection-after-Knee-Replacement-Surgery_IMAGE-1-300x200.jpeg', 'https://ars.els-cdn.com/content/image/1-s2.0-S1319453418301681-gr1.jpg', 'https://cdn.amegroups.cn/journals/amepc/files/journals/16/articles/31249/public/31249-PB11-9785-R1.png', 'https://els-jbs-prod-cdn.jbs.elsevierhealth.com/cms/attachment/3da4fbb7-5ff9-48b5-9a77-c3ad2b148c6c/gr1_lrg.jpg', 'https://media.springernature.com/lw685/springer-static/image/art%3A10.1186%2F1749-8090-5-57/MediaObjects/13019_2010_Article_290_Fig1_HTML.jpg', 'https://www.littleearthlingblog.com/wp-content/uploads/2017/01/staph-infection-g-tube-removal-surgery-4-.jpg', 'https://d3i71xaburhd42.cloudfront.net/234c74db539db2c3e8ffe72c2b1890ac7bfb2f83/2-Figure1-1.png', 'https://els-jbs-prod-cdn.jbs.elsevierhealth.com/cms/attachment/2cfbf65b-3eed-4036-a2ed-895c9f7ab8cc/gr1_lrg.jpg', 'https://mendwell.com/wp-content/uploads/2021/04/infection-after-surgery.jpg', 'https://minio.scielo.br/documentstore/1678-9741/7Zf6Vh9CrTVs7WSWBLN5CZk/2e837637a9084a6644f297f1ade11fc19ee846c0.jpg']\n"
     ]
    },
    {
     "name": "stderr",
     "output_type": "stream",
     "text": [
      "\n"
     ]
    }
   ],
   "source": [
    "from simple_image_download import simple_image_download as simp\n",
    "\n",
    "response = simp.simple_image_download\n",
    "\n",
    "response().download('infection after surgery', 50)\n",
    "\n",
    "print(response().urls('infection after surgery', 50))"
   ]
  },
  {
   "cell_type": "code",
   "execution_count": 3,
   "metadata": {},
   "outputs": [
    {
     "name": "stderr",
     "output_type": "stream",
     "text": [
      "[========================================================================] 100%\n",
      "[========================================================================] 100%\r"
     ]
    },
    {
     "name": "stdout",
     "output_type": "stream",
     "text": [
      "['https://images-prod.healthline.com/hlcmsresource/images/topic_centers/skin-disorders/642x361_Slide_1_Skin_Infections.jpg', 'https://post.medicalnewstoday.com/wp-content/uploads/sites/3/2020/02/an-infected-finger.jpg', 'https://images.onhealth.com/images/slideshow/viral-infections-s7-viral-skin-infections.jpg', 'https://images-prod.healthline.com/hlcmsresource/images/topic_centers/skin-disorders/642x361_Slide_5_Skin_Infections.jpg', 'https://images.onhealth.com/images/slideshow/bacterial-infections-101-s4-skin.jpg', 'https://www.health.ny.gov/diseases/communicable/athletic_skin_infections/images/mrsa_thigh_236x358.jpg', 'https://img.medscape.com/thumbnail_library/is_160408_bacteria_infection_800x600.jpg', 'https://upload.wikimedia.org/wikipedia/commons/thumb/6/60/Cellulitis3.jpg/1200px-Cellulitis3.jpg', 'https://www.researchgate.net/publication/40484391/figure/fig1/AS:202790761701378@1425360493161/Infection-in-ulcer-bed-with-mild-surrounding-erythema.png', 'https://s3.ap-south-1.amazonaws.com/m3india-app-dev/ckeditor/content/rub-1532330139.jpg', 'https://www.stlouischildrens.org/sites/default/files/symptomchecker/woundinfection1.jpg', 'https://static.india.com/wp-content/uploads/2020/01/Urinary-Tract-Infection-415x246.jpg', 'https://st1.thehealthsite.com/wp-content/uploads/2021/05/covid-19-younf-adults.jpg?impolicy', 'https://www.gannett-cdn.com/experiments/usatoday/gifs/tool/831-vaccine.png', 'https://thedailyguardian.com/wp-content/uploads/2021/05/dd49ca05_2641_P_2_mr-1.jpg', 'https://www.lifeberrys.com/img/article/funagl-infection-1619595516-lb.jpg', 'https://i.pinimg.com/236x/17/b8/82/17b8828390654854547c17fabf960d39.jpg', 'https://www.mayoclinic.org/-/media/kcms/gbs/patient-consumer/images/2013/08/26/10/08/ds00599_im00929_r7_hfmd_handthu_jpg.jpg', 'https://post.healthline.com/wp-content/uploads/2020/09/bandaid_knee_child-732x549-thumbnail-732x549.jpg', 'https://images.news18.com/ibnlive/uploads/2020/08/1598267219_coronavirus-test.jpg', 'https://www.ox.ac.uk/sites/files/oxford/styles/ow_medium_feature/s3/field/field_image_main/OVG-Lab10.jpg?itok', 'https://image.shutterstock.com/image-photo/man-touches-his-face-microbes-260nw-1766262377.jpg', 'https://www.indiaspend.com/h-upload/2021/05/03/1600x960_467936-mild-infection-among-children-covid-191600.jpg', 'https://i.pinimg.com/originals/83/6c/3b/836c3b682bac708f376699933e84b526.jpg', 'https://images.hindustantimes.com/img/2021/07/04/550x309/3ebd1daa-dc22-11eb-b1f5-4d7a6862d03d_1625332737428_1625382095918.jpg', 'https://img.etimg.com/thumb/msid-76853912,width-650,imgsize-915685,,resizemode-4,quality-100/brain-encephalitis_gettyimages.jpg', 'https://api.time.com/wp-content/uploads/2020/04/pills-glass-water.jpg', 'https://www.premier1supplies.com/sheep-guide/wp-content/uploads/2016/11/20151.jpg', 'https://img.etimg.com/thumb/msid-83660193,width-320,height-240/news/india/kids-may-be-severely-infected-in-rare-cases-experts.jpg', 'https://www.researchgate.net/profile/Angel-Ortilles/publication/313851621/figure/fig2/AS:463864090370051@1487605225794/Representative-cases-of-AK-in-columns-A-group-1L-with-mild-infection-n-14-3-28th.png', 'https://media.springernature.com/lw685/springer-static/image/art%3A10.1038%2Fs41392-020-00263-y/MediaObjects/41392_2020_263_Fig1_HTML.png', 'https://www.qmul.ac.uk/media/qmul/media/news/items/smd/SARS-CoV-2-virus-particle-surrounded-by-antibodies.-Credit-koto_feja_istock.com_640x410.jpg', 'https://smartcdn.prod.postmedia.digital/nationalpost/wp-content/uploads/2020/10/COVIDMAN.jpg?quality', 'https://images.financialexpress.com/2020/06/covid-19-2.jpg', 'https://www.researchgate.net/profile/Zongtao-Sun/publication/340320111/figure/fig2/AS:875323440779265@1585704779748/Figure-S2-Symptoms-and-RT-PCR-analysis-of-Cowpea-mild-mottle-virus-CPMMV-infection-on.png', 'https://www.stlouischildrens.org/sites/default/files/symptomchecker/lymphangitis1.jpg', 'https://images.livemint.com/img/2021/05/25/600x338/54142889713f486ba7e306102be84d54-54142889713f486ba7e306102be84d54-1_1604041766706_1604041779464_1621944507768.jpg', 'https://els-jbs-prod-cdn.jbs.elsevierhealth.com/cms/attachment/974bbb40-f3e0-4013-9d6e-6f85dd3d392d/gr1_lrg.jpg', 'https://els-jbs-prod-cdn.jbs.elsevierhealth.com/cms/attachment/5192b865-efea-4dd0-8422-2354de4b7765/gr1.jpg', 'https://images.medicinenet.com/images/article/main_image/can-you-have-a-mild-case-of-shingles.jpg', 'https://i.ytimg.com/vi/H7SiDzQy5Bw/maxresdefault.jpg', 'https://cdn.images.express.co.uk/img/dynamic/11/750x445/1274529.jpg', 'https://thumbor.forbes.com/thumbor/960x0/https%3A%2F%2Fspecials-images.forbesimg.com%2Fimageserve%2F1207620873%2F960x0.jpg%3Ffit%3Dscale', 'https://www.mayoclinic.org/-/media/kcms/gbs/patient-consumer/images/2013/08/26/11/01/ds00464_im00402_sn7_ecthyma_jpg.jpg', 'https://images.indianexpress.com/2021/06/covid-vaccine-3-7.jpg', 'https://newsmedia.tasnimnews.com/Tasnim/Uploaded/Image/1399/10/06/1399100617303824621885734.jpg', 'https://i.pinimg.com/originals/c4/d8/6b/c4d86b5f9ce6328c2190c1d2d4cc57e6.jpg', 'https://www.openaccessgovernment.org/wp-content/uploads/2021/04/dreamstime_s_199011010.jpg', 'https://images-cdn.9gag.com/photo/a9KK6Y6_700b.jpg', 'https://m.media-amazon.com/images/I/71bu5EwmTpS._AC_SS450_.jpg']\n"
     ]
    },
    {
     "name": "stderr",
     "output_type": "stream",
     "text": [
      "\n"
     ]
    }
   ],
   "source": [
    "from simple_image_download import simple_image_download as simp\n",
    "\n",
    "response = simp.simple_image_download\n",
    "\n",
    "response().download('mild infection', 50)\n",
    "\n",
    "print(response().urls('mild infection', 50))"
   ]
  },
  {
   "cell_type": "code",
   "execution_count": 4,
   "metadata": {},
   "outputs": [
    {
     "name": "stderr",
     "output_type": "stream",
     "text": [
      "[========================================================================] 100%\n",
      "[========================================================================] 100%\r"
     ]
    },
    {
     "name": "stdout",
     "output_type": "stream",
     "text": [
      "['https://www.woundsource.com/sites/default/files/patient-condition/amputation_site_infected_and_sloughy.jpg', 'https://www.woundsource.com/sites/default/files/blogs/wound_healthin_pathophysiology_small.jpg', 'https://hytape.com/wp-content/uploads/2021/01/infected-foot.jpg', 'https://sanaramedtech.com/wp-content/uploads/2021/02/Wound-Infection-Blog-2-1.jpg', 'https://www.woundsource.com/sites/default/files/patient-condition/infected_toe_nail_bed.jpg', 'https://urgentmednetwork.com/wp-content/uploads/2018/10/How-to-Tell-if-a-Wound-is-Infected.Featured.png', 'https://www.doomandbloom.net/wp-content/uploads/2014/03/shutterstock_161673146.jpg', 'https://c8.alamy.com/comp/ABFA5Y/infected-laceration-to-finger-ABFA5Y.jpg', 'https://media.springernature.com/lw685/springer-static/image/art%3A10.1186%2Fs12967-019-2111-0/MediaObjects/12967_2019_2111_Fig1_HTML.png', 'https://image.shutterstock.com/image-photo/post-operative-wound-infection-signs-260nw-1120805936.jpg', 'https://urgentmednetwork.com/wp-content/uploads/2018/10/How-to-Tell-if-a-Wound-Is-Infected.2.png', 'https://d3ivyz8uwhxhbe.cloudfront.net/administrator/uploads/article_images/mrsa-infect-300x222.jpg', 'https://cdn.ps.emap.com/wp-content/uploads/sites/3/2018/06/M3300921-Infected_wound-SPL_660.jpg', 'https://image.shutterstock.com/image-photo/using-cotton-swab-clean-pyogenic-260nw-762099577.jpg', 'https://dermnetnz.org/assets/Uploads/bacterial/wound-infection2__ProtectWyJQcm90ZWN0Il0_FocusFillWzI5NCwyMjIsIngiLDFd.jpg', 'https://cdn.sanity.io/images/0vv8moc6/patientcare/03c4133b9335f219a4c17df88e859000a393bc18-640x360.jpg', 'https://www.molnlycke.com/contentassets/e7c57cea1e524112a71df5698d49aef2/leg-ulcer.jpg', 'https://www.theveterinarynurse.com/media/211728/vetn-2020-11-10-447_f06.jpg', 'https://www.suncoastucc.com/wp-content/uploads/2013/01/istock_000012019091small.jpg', 'https://i0.wp.com/images-prod.healthline.com/hlcmsresource/images/Image-Galleries/infected-cut/7403-skin_infection_from_cut-648x364-slide2.jpg?w', 'https://c8.alamy.com/comp/AMCN53/pretibial-laceration-infected-AMCN53.jpg', 'https://pictures.brafton.com/x_0_0_0_14099601_800.jpg', 'https://dermnetnz.org/assets/Uploads/bacterial/wound-infection1__ProtectWyJQcm90ZWN0Il0_FocusFillWzI5NCwyMjIsIngiLDFd.jpg', 'https://post.medicalnewstoday.com/wp-content/uploads/sites/3/2020/02/325040_2200-1200x628.jpg', 'https://www.bandaid.ca/sites/bandaid_ca/files/compare_health_infected_r_0.jpg', 'https://www.firstaidforfree.com/wp-content/uploads/2014/11/Infected-cut.jpg', 'https://img.webmd.com/dtmcms/live/webmd/consumer_assets/site_images/articles/health_tools/how_does_my_wound_heal_slideshow/493ss_science_source_rm_infected_wound_on_mans_leg.jpg?resize', 'https://image.shutterstock.com/image-photo/serious-open-wound-on-skin-260nw-216398719.jpg', 'https://www.researchgate.net/profile/Richard-White-7/publication/26723862/figure/fig1/AS:277091321958400@1443075127159/An-infected-sloughy-sternotomy-wound-that-has_Q320.jpg', 'https://images-prod.healthline.com/hlcmsresource/images/Image-Galleries/infected-cut/7403-skin_infection_from_wound-1296x728-slide3.jpg', 'https://static.wikia.nocookie.net/greenhell_gamepedia_en/images/9/95/Infection_closeup.jpg/revision/latest/scale-to-width-down/400?cb', 'https://images.medicinenet.com/images/article/main_image/puncture-wound.jpg', 'https://dfwwoundcarecenter.com/wp-content/uploads/open-foot-wound.sm_.jpg', 'https://i.pinimg.com/originals/50/cb/9d/50cb9d0f3dcdf030fc7fec8f6ce739bd.jpg', 'https://upload.orthobullets.com/topic/1053/images/img_2516.jpg', 'https://www.layoffpain.com/blog/wp-content/uploads/sites/6/2019/02/How-to-Heal-an-Infected-Wound.jpg', 'https://www.researchgate.net/profile/Richard-White-7/publication/26723862/figure/fig2/AS:277091321958401@1443075127201/Pressure-area-damage-to-the-buttocks-has-become-infected-Clear-signs-of-spreading_Q320.jpg', 'https://www.molnlycke.com/contentassets/e7c57cea1e524112a71df5698d49aef2/burn-wound.jpg', 'https://physicianoneurgentcare.com/wp-content/uploads/2014/10/15-wound-signs.jpg', 'https://willingsford.com/wp-content/uploads/2018/12/Dehisced_Day_0.jpg', 'https://c8.alamy.com/comp/JFFWBB/wound-JFFWBB.jpg', 'https://1psr53262shenuptt2xheajw-wpengine.netdna-ssl.com/wp-content/uploads/2019/02/diabetic-wound-care-1200x900.jpg', 'https://image.shutterstock.com/image-photo/zooming-closeup-macro-view-ulcerative-260nw-1127165828.jpg', 'https://post.healthline.com/wp-content/uploads/2020/09/bandaid_knee_child-732x549-thumbnail-732x549.jpg', 'https://c8.alamy.com/comp/W1EJ71/infected-wound-of-diabetic-foot-W1EJ71.jpg', 'https://dm1zcrsul8wju.cloudfront.net/sites/rcn_nspace/files/styles/full_width_banner/public/Article-images/151716/cleaning_infected_woundcspl.jpg?itok', 'https://www.woundsource.com/sites/default/files/blogs/wound_infection.jpg', 'https://images.fineartamerica.com/images-medium-large-5/close-up-of-an-open-and-infected-leg-wound-garry-watsonscience-photo-library.jpg', 'https://media.sciencephoto.com/c0/47/58/60/c0475860-800px-wm.jpg', 'https://cdn.ps.emap.com/wp-content/uploads/sites/3/2018/06/M2800174-Leg_ulcer-SPL_660.jpg']\n"
     ]
    },
    {
     "name": "stderr",
     "output_type": "stream",
     "text": [
      "\n"
     ]
    }
   ],
   "source": [
    "from simple_image_download import simple_image_download as simp\n",
    "\n",
    "response = simp.simple_image_download\n",
    "\n",
    "response().download('infected laceration', 50)\n",
    "\n",
    "print(response().urls('infected laceration', 50))"
   ]
  },
  {
   "cell_type": "code",
   "execution_count": 1,
   "metadata": {},
   "outputs": [
    {
     "name": "stderr",
     "output_type": "stream",
     "text": [
      "[========================================================================] 100%\n",
      "[========================================================================] 100%\r"
     ]
    },
    {
     "name": "stdout",
     "output_type": "stream",
     "text": [
      "['https://www.woundsource.com/sites/default/files/patient-condition/amputation_site_infected_and_sloughy.jpg', 'https://sanaramedtech.com/wp-content/uploads/2021/02/Wound-Infection-Blog-2-1.jpg', 'https://urgentmednetwork.com/wp-content/uploads/2018/10/How-to-Tell-if-a-Wound-is-Infected.Featured.png', 'https://www.fairview.org/hlimg/krames/444061.jpg', 'https://www.molnlycke.com/contentassets/e7c57cea1e524112a71df5698d49aef2/leg-ulcer.jpg', 'https://www.theveterinarynurse.com/media/211728/vetn-2020-11-10-447_f06.jpg', 'https://www.woundsource.com/sites/default/files/styles/large/public/blogs/biofilm_small.jpg?itok', 'https://healthtimes.com.au/administrator/uploads/mrsa-infect.jpg', 'https://media.springernature.com/lw685/springer-static/image/art%3A10.1186%2Fs12967-019-2111-0/MediaObjects/12967_2019_2111_Fig1_HTML.png', 'https://dermnetnz.org/assets/Uploads/bacterial/wound-infection2__ProtectWyJQcm90ZWN0Il0_FocusFillWzI5NCwyMjIsIngiLDFd.jpg', 'https://www.doomandbloom.net/wp-content/uploads/2014/03/shutterstock_161673146.jpg', 'https://www.bandgrip.com/hubfs/red%20stitches_94850783.jpeg', 'https://www.suncoastucc.com/wp-content/uploads/2013/01/istock_000012019091small.jpg', 'https://www.woundsource.com/sites/default/files/patient-condition/infected_toe_nail_bed.jpg', 'https://dermnetnz.org/assets/Uploads/bacterial/wound-infection1__ProtectWyJQcm90ZWN0Il0_FocusFillWzI5NCwyMjIsIngiLDFd.jpg', 'https://urgentmednetwork.com/wp-content/uploads/2018/10/How-to-Tell-if-a-Wound-Is-Infected.2.png', 'https://www.researchgate.net/profile/Gregory-Schultz-2/publication/320769536/figure/fig3/AS:571039877996544@1513157924251/CLINICAL-SIGNS-OF-WOUND-INFECTION_Q640.jpg', 'https://images.medicinenet.com/images/article/main_image/puncture-wound.jpg', 'https://www.researchgate.net/profile/Richard-White-7/publication/26723862/figure/fig2/AS:277091321958401@1443075127201/Pressure-area-damage-to-the-buttocks-has-become-infected-Clear-signs-of-spreading_Q320.jpg', 'https://cdn.ps.emap.com/wp-content/uploads/sites/3/2018/06/M3300921-Infected_wound-SPL_660.jpg', 'https://image.shutterstock.com/image-photo/post-operative-wound-infection-signs-260nw-1120805936.jpg', 'https://cdn.shopify.com/s/files/1/0516/6143/9163/articles/Insta_WoundInfection_001_medium.jpg?v', 'https://www.firstaidforfree.com/wp-content/uploads/2014/11/Infected-cut.jpg', 'https://i.ytimg.com/vi/sxsVhgd_efw/maxresdefault.jpg', 'https://c8.alamy.com/comp/JFFWBB/wound-JFFWBB.jpg', 'https://post.medicalnewstoday.com/wp-content/uploads/sites/3/2020/02/325040_2200-1200x628.jpg', 'https://image.shutterstock.com/image-photo/isolated-wounded-leg-white-background-260nw-304486712.jpg', 'https://images-prod.healthline.com/hlcmsresource/images/Image-Galleries/infected-cut/7403-skin_infection_from_cut-648x364-slide2.jpg', 'https://www.researchgate.net/profile/Piya-Ghatak/publication/255737623/figure/fig9/AS:669636492283917@1536665189959/Digital-photos-and-gram-staining-of-deep-sternal-wound-infection-in-two-patients.png', 'https://physicianoneurgentcare.com/wp-content/uploads/2014/10/15-wound-signs.jpg', 'https://www.diabetes.co.uk/wp-content/uploads/2019/01/Wound-on-his-leg-man-foot-ulcer_Medium.jpg', 'https://willingsford.com/wp-content/uploads/2018/12/Dehisced_Day_0.jpg', 'https://els-jbs-prod-cdn.jbs.elsevierhealth.com/cms/attachment/67f6c583-d239-4fbd-9ac2-8c3a7b1f5e15/gr1_lrg.jpg', 'https://www.clinimed.co.uk/images/Figure-14-Critically-colonised-wound.jpg', 'https://images.medicinenet.com/images/article/main_image/cuts-scrapes-puncture.jpg', 'https://www.layoffpain.com/blog/wp-content/uploads/sites/6/2019/02/How-to-Heal-an-Infected-Wound.jpg', 'https://images-prod.healthline.com/hlcmsresource/images/Image-Galleries/infected-cut/7403-skin_infection_from_wound-1296x728-slide3.jpg', 'https://images-wixmp-ed30a86b8c4ca887773594c2.wixmp.com/f/a77391a0-c791-4673-b5f7-d536293d7e92/d6qriag-09f89036-794e-41e3-a914-970caef437e9.jpg/v1/fill/w_1280,h_960,q_75,strp/infected_wound_2_by_victorianspectre_d6qriag-fullview.jpg?token', 'https://i.ytimg.com/vi/5apRdsdHy-A/hqdefault.jpg', 'https://cdn.ps.emap.com/wp-content/uploads/sites/3/2018/06/M2800174-Leg_ulcer-SPL_660.jpg', 'https://image.shutterstock.com/image-photo/zooming-closeup-macro-view-ulcerative-260nw-1127165828.jpg', 'https://www.molnlycke.com/contentassets/e7c57cea1e524112a71df5698d49aef2/burn-wound.jpg', 'https://cdn-prod.medicalnewstoday.com/content/images/articles/325/325040/man-washing-wound-on-his-foot-with-water.jpg', 'https://victoria.mediaplanet.com/app/uploads/sites/103/2019/05/main-43-576x486.jpg', 'https://img.webmd.com/dtmcms/live/webmd/consumer_assets/site_images/articles/health_tools/how_does_my_wound_heal_slideshow/493ss_science_source_rm_infected_wound_on_mans_leg.jpg?resize', 'https://dm3omg1n1n7zx.cloudfront.net/rcni/static/journals/ns/23/7/ns2008.10.23.7.53.c6712/graphic/ns_v23_n7_6712_0001.jpg', 'https://d3i71xaburhd42.cloudfront.net/1fbf6fb95a799db498f7e7d670a9bb26fc14539e/4-Figure1-1.png', 'https://www.bbraun.co.uk/content/dam/b-braun/global/website/products-and-therapies/wound-management/misc/Infected%20wound.jpg.transform/650/image.jpg', 'https://www.woundsource.com/sites/default/files/blogs/wound_infection.jpg', 'https://dfwwoundcarecenter.com/wp-content/uploads/infected-wounds.jpg']\n"
     ]
    },
    {
     "name": "stderr",
     "output_type": "stream",
     "text": [
      "\n"
     ]
    }
   ],
   "source": [
    "from simple_image_download import simple_image_download as simp\n",
    "\n",
    "response = simp.simple_image_download\n",
    "\n",
    "response().download('Wound is infected', 50)\n",
    "\n",
    "print(response().urls('Wound is infected', 50))"
   ]
  },
  {
   "cell_type": "code",
   "execution_count": 2,
   "metadata": {},
   "outputs": [
    {
     "name": "stderr",
     "output_type": "stream",
     "text": [
      "[========================================================================] 100%\n",
      "[========================================================================] 100%\r"
     ]
    },
    {
     "name": "stdout",
     "output_type": "stream",
     "text": [
      "['https://image.shutterstock.com/image-photo/wounded-arm-patient-infection-wound-260nw-655184251.jpg', 'https://images.medicaldaily.com/sites/medicaldaily.com/files/styles/headline/public/2016/10/24/arm-wound.jpg', 'https://images-prod.healthline.com/hlcmsresource/images/Image-Galleries/infected-cut/7403-skin_infection_from_wound-1296x728-slide3.jpg', 'https://i.ytimg.com/vi/-aPUs5lkSy4/hqdefault.jpg', 'https://c8.alamy.com/comp/E3ME4E/a-man-with-an-infected-wound-on-his-arm-caused-by-a-sloppy-removal-E3ME4E.jpg', 'https://c8.alamy.com/comp/E3ME5B/a-man-with-an-infected-wound-on-his-arm-caused-by-a-sloppy-removal-E3ME5B.jpg', 'https://upload.orthobullets.com/topic/1053/images/img_2516.jpg', 'https://i.redd.it/2l73mhvjijy31.jpg', 'https://images-prod.healthline.com/hlcmsresource/images/Image-Galleries/infected-cut/7403-skin_infection_from_cut-648x364-slide2.jpg', 'https://www.thesun.co.uk/wp-content/uploads/2020/02/NINTCHDBPICT000562420394.jpg', 'https://urgentmednetwork.com/wp-content/uploads/2018/10/How-to-Tell-if-a-Wound-Is-Infected.1.png', 'https://image.shutterstock.com/image-photo/wound-infected-diabetic-foot-disease-260nw-1086202922.jpg', 'https://pbs.twimg.com/media/C5XYPggWMAEKOJj.jpg', 'https://images-prod.healthline.com/hlcmsresource/images/Image-Galleries/infected-cut/7403-unifected_cut-1296x728-slide4.jpg', 'https://www.bite-pro.com/storage/app/uploads/public/920/d4d/993/thumb__900_480_0_0_crop.jpg', 'https://post.medicalnewstoday.com/wp-content/uploads/sites/3/2020/02/325069_2200-1200x628.jpg', 'https://post.medicalnewstoday.com/wp-content/uploads/sites/3/2020/02/325761_1100-800x825.jpg', 'https://c8.alamy.com/comp/E3ME50/a-man-with-an-infected-wound-on-his-arm-caused-by-a-sloppy-removal-E3ME50.jpg', 'https://cdn.sepsis.org/wp-content/uploads/2017/12/iStock-521728565.jpg', 'https://www.gannett-cdn.com/presto/2019/06/12/USAT/181463fc-65ac-4fb7-9a3f-383c3bf37eaa-Alexander_RuddyX.jpg?auto', 'https://pictures.brafton.com/x_0_0_0_14099601_800.jpg', 'https://images.infobloom.com/abraded-knees.jpg', 'https://doctorrennie.files.wordpress.com/2012/03/img_5864.jpg', 'https://www.bite-pro.com/storage/app/media/uploaded-files/human-bite_3.jpg', 'https://2rdnmg1qbg403gumla1v9i2h-wpengine.netdna-ssl.com/wp-content/uploads/sites/3/2016/10/dogBiteWound-970114862-770x533-1-650x428.jpg', 'https://physicianoneurgentcare.com/wp-content/uploads/2014/10/15-wound-signs.jpg', 'https://cdn-prod.medicalnewstoday.com/content/images/articles/325/325761/infected-scab-on-knee.jpg', 'https://img.medscapestatic.com/pi/features/slideshow-slide/infect-skin-6003449/fig1.jpg', 'https://images.emedicinehealth.com/images/article/main_image/cuts-lacerations.jpg', 'https://youngmenshealthsite.org/wp-content/uploads/2015/05/cut.jpg', 'https://post.healthline.com/wp-content/uploads/2020/09/bandaid_knee_child-732x549-thumbnail-732x549.jpg', 'https://i.imgur.com/5DVDCXW.jpg', 'https://images.medicinenet.com/images/slideshow/staph-infection-s4-photo-of-staph-infection.jpg', 'https://www.sivextro.com/images/Sivextro-Claire-Wound_tcm4914-940103.png', 'https://www.selfcare.info/API/images/woundinfection1.jpg', 'https://orthoinfo.aaos.org/globalassets/figures/a00582f02.jpg', 'https://s3.amazonaws.com/www.irunfar.com/wp-content/uploads/2019/02/16125633/Wounds-7.jpg', 'https://www.merckmanuals.com/-/media/manual/home/images/m2000212-lymphangitis-science-photo-library-high.jpg?thn', 'https://www.thesun.co.uk/wp-content/uploads/2020/02/NINTCHDBPICT000562420103.jpg', 'https://cached.imagescaler.hbpl.co.uk/resize/scaleWidth/800/cached.offlinehbpl.hbpl.co.uk/news/PGH/A085BCB2-F545-BFD8-94AD6ED72FDBE29E.gif', 'https://cdn-prod.medicalnewstoday.com/content/images/articles/325/325069/lymphangitis-on-the-back-of-the-leg-br-image-credit-jos-m-ramos-et-al-2011-br.jpg', 'https://www.scienceabc.com/wp-content/uploads/2016/10/Dentist-making-anaesthetic-injection-to-woman-patient-tooth-teethNejron-Photos.jpg', 'https://media.mauinow.com/file/mauinow/2017/03/hand-2103085_640.jpg', 'https://www.bite-pro.com/storage/app/media/uploaded-files/human-bite_1.jpg', 'https://image.shutterstock.com/image-photo/isolated-wounded-leg-white-background-260nw-304486712.jpg', 'https://static.wikia.nocookie.net/greenhell_gamepedia_en/images/9/95/Infection_closeup.jpg/revision/latest/scale-to-width-down/400?cb', 'https://www.jucm.com/wp-content/uploads/2014/06/0214HL-1.jpg', 'https://cbsnews3.cbsistatic.com/hub/i/r/2011/04/26/179b8ae3-a643-11e2-a3f0-029118418759/thumbnail/640x480/e9a1b4543c147a878347409bae06cc76/mrsa_skin_moran6.jpg', 'https://www.woundsource.com/sites/default/files/blogs/hand_wound.jpg', 'https://images.medicinenet.com/images/appictures/staph-infection-s1-facts.jpg']\n"
     ]
    },
    {
     "name": "stderr",
     "output_type": "stream",
     "text": [
      "\n"
     ]
    }
   ],
   "source": [
    "from simple_image_download import simple_image_download as simp\n",
    "\n",
    "response = simp.simple_image_download\n",
    "\n",
    "response().download('infected arm cut', 50)\n",
    "\n",
    "print(response().urls('infected arm cut', 50))"
   ]
  },
  {
   "cell_type": "code",
   "execution_count": null,
   "metadata": {},
   "outputs": [
    {
     "name": "stderr",
     "output_type": "stream",
     "text": [
      "[========================================================================] 100%\n",
      "[=====                                                                   ]   7%\r"
     ]
    }
   ],
   "source": [
    "from simple_image_download import simple_image_download as simp\n",
    "\n",
    "response = simp.simple_image_download\n",
    "\n",
    "response().download('healed wound', 100)\n",
    "\n",
    "print(response().urls('healed wound', 100))"
   ]
  },
  {
   "cell_type": "code",
   "execution_count": null,
   "metadata": {},
   "outputs": [],
   "source": []
  }
 ],
 "metadata": {
  "kernelspec": {
   "display_name": "Python (learn-env)",
   "language": "python",
   "name": "learn-env"
  },
  "language_info": {
   "codemirror_mode": {
    "name": "ipython",
    "version": 3
   },
   "file_extension": ".py",
   "mimetype": "text/x-python",
   "name": "python",
   "nbconvert_exporter": "python",
   "pygments_lexer": "ipython3",
   "version": "3.8.5"
  }
 },
 "nbformat": 4,
 "nbformat_minor": 4
}
