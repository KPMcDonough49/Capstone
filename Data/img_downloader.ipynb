{
 "cells": [
  {
   "cell_type": "markdown",
   "metadata": {},
   "source": [
    "### Image Downloader"
   ]
  },
  {
   "cell_type": "markdown",
   "metadata": {},
   "source": [
    "The code below is an example of a simple image download package that I used to scrape images. The package allows you to imput a search term and it saves the images in into a folder automatically. This is just one example, but I tried this with a bunch of different search terms. This package helped me to scrape images off the internet much faster, although I still had to manually look in the folders to make sure the images were correctly labeled. The github repository for this package can be found here: [Simple Image Downloader](https://github.com/RiddlerQ/simple_image_download)"
   ]
  },
  {
   "cell_type": "code",
   "execution_count": 1,
   "metadata": {},
   "outputs": [
    {
     "name": "stderr",
     "output_type": "stream",
     "text": [
      "[========================================================================] 100%\n",
      "[========================================================================] 100%\r"
     ]
    },
    {
     "name": "stdout",
     "output_type": "stream",
     "text": [
      "['https://www.woundsource.com/sites/default/files/patient-condition/amputation_site_infected_and_sloughy.jpg', 'https://urgentmednetwork.com/wp-content/uploads/2018/10/How-to-Tell-if-a-Wound-Is-Infected.1.png', 'https://hytape.com/wp-content/uploads/2021/01/infected-foot.jpg', 'https://www.woundsource.com/sites/default/files/patient-condition/infected_toe_nail_bed.jpg', 'https://www.suncoastucc.com/wp-content/uploads/2013/01/istock_000012019091small.jpg', 'https://afcdallas.com/wp-content/uploads/2021/02/20161220_163345.jpg', 'https://www.molnlycke.com/contentassets/e7c57cea1e524112a71df5698d49aef2/leg-ulcer.jpg', 'https://www.theveterinarynurse.com/media/211728/vetn-2020-11-10-447_f06.jpg', 'https://media.springernature.com/lw685/springer-static/image/art%3A10.1186%2Fs12967-019-2111-0/MediaObjects/12967_2019_2111_Fig1_HTML.png', 'https://www.fairview.org/hlimg/krames/444061.jpg', 'https://sanaramedtech.com/wp-content/uploads/2021/02/Wound-Infection-Blog-2-1.jpg', 'https://urgentmednetwork.com/wp-content/uploads/2018/10/How-to-Tell-if-a-Wound-is-Infected.Featured.png', 'https://assets.nestfamilymedicine.com/Images/Sites/N/NestFamilyMedicine/561494.jpg?crop', 'https://www.doomandbloom.net/wp-content/uploads/2014/03/shutterstock_161673146.jpg', 'https://www.researchgate.net/profile/Gregory-Schultz-2/publication/320769536/figure/fig3/AS:571039877996544@1513157924251/CLINICAL-SIGNS-OF-WOUND-INFECTION_Q640.jpg', 'https://dermnetnz.org/assets/Uploads/bacterial/wound-infection2__ProtectWyJQcm90ZWN0Il0_FocusFillWzI5NCwyMjIsIngiLDFd.jpg', 'https://image.shutterstock.com/image-photo/zooming-closeup-macro-view-ulcerative-260nw-1127165828.jpg', 'https://healthtimes.com.au/administrator/uploads/mrsa-infect.jpg', 'https://c8.alamy.com/comp/2C99AMF/doctor-applying-medicine-to-infected-wound-on-the-patients-foot-2C99AMF.jpg', 'https://www.diabetes.co.uk/wp-content/uploads/2019/01/Wound-on-his-leg-man-foot-ulcer_Medium.jpg', 'https://i0.wp.com/images-prod.healthline.com/hlcmsresource/images/Image-Galleries/infected-cut/7403-skin_infection_from_cut-648x364-slide2.jpg?w', 'https://www.clinimed.co.uk/images/necrotic-scab-odour-clinimed.jpg', 'https://cdn.shopify.com/s/files/1/1468/1818/products/MW070_LARGE_INFECTED_LEG_WOUND_3024x.jpg?v', 'https://willingsford.com/wp-content/uploads/2019/09/knee_1.jpg', 'https://post.healthline.com/wp-content/uploads/2020/09/bandaid_knee_child-732x549-thumbnail-732x549.jpg', 'https://i.ytimg.com/vi/sxsVhgd_efw/maxresdefault.jpg', 'https://image.shutterstock.com/image-photo/isolated-wounded-leg-white-background-260nw-304486712.jpg', 'https://images.medicinenet.com/images/article/main_image/puncture-wound.jpg', 'https://www.firstaidforfree.com/wp-content/uploads/2014/11/Infected-cut.jpg', 'https://media.sciencephoto.com/c0/04/42/20/c0044220-400px-wm.jpg', 'https://urgentmednetwork.com/wp-content/uploads/2018/10/How-to-Tell-if-a-Wound-Is-Infected.2.png', 'https://cdn-prod.medicalnewstoday.com/content/images/articles/325/325040/girl-with-bandage-on-knee-wondering-how-to-treat-an-infected-wound.jpg', 'https://dermnetnz.org/assets/Uploads/bacterial/wound-infection1__ProtectWyJQcm90ZWN0Il0_FocusFillWzI5NCwyMjIsIngiLDFd.jpg', 'https://cdn.shopify.com/s/files/1/0516/6143/9163/articles/Insta_WoundInfection_001_800x.jpg?v', 'https://legacyer.com/wp-content/uploads/2019/05/infectedwound_orig.jpg', 'https://blog.wcei.net/wp-content/uploads/2017/01/Infection-Header-1-1.jpg', 'https://1psr53262shenuptt2xheajw-wpengine.netdna-ssl.com/wp-content/uploads/2019/02/diabetic-wound-care-1200x900.jpg', 'https://www.researchgate.net/profile/Piya-Ghatak/publication/255737623/figure/fig9/AS:669636492283917@1536665189959/Digital-photos-and-gram-staining-of-deep-sternal-wound-infection-in-two-patients.png', 'https://media.springernature.com/full/springer-static/image/art%3A10.1038%2Fs41598-019-48657-5/MediaObjects/41598_2019_48657_Fig1_HTML.png', 'https://static.wikia.nocookie.net/greenhell_gamepedia_en/images/9/95/Infection_closeup.jpg/revision/latest/scale-to-width-down/400?cb', 'https://img.webmd.com/dtmcms/live/webmd/consumer_assets/site_images/articles/health_tools/how_does_my_wound_heal_slideshow/493ss_science_source_rm_infected_wound_on_mans_leg.jpg?resize', 'https://cdn.ps.emap.com/wp-content/uploads/sites/3/2018/06/M3300921-Infected_wound-SPL_660.jpg', 'https://physicianoneurgentcare.com/wp-content/uploads/2014/10/15-wound-signs.jpg', 'https://els-jbs-prod-cdn.jbs.elsevierhealth.com/cms/attachment/e8c8f3cc-0a22-43d6-9b3c-ec15c83a484c/gr1_lrg.jpg', 'https://s3.amazonaws.com/HMP/hmp_ln/imported/PT1111Wound2.png', 'https://dfwwoundcarecenter.com/images/bigstock-The-Wound-Medicine-131891645.jpg', 'https://www.layoffpain.com/blog/wp-content/uploads/sites/6/2019/02/How-to-Heal-an-Infected-Wound.jpg', 'https://c8.alamy.com/comp/2C5MR6K/torn-wound-from-inflammation-acne-on-the-human-skin-red-infected-wound-on-the-normal-skin-of-human-leg-torn-off-a-bleeding-pimple-on-the-skin-2C5MR6K.jpg', 'https://www.woundsource.com/sites/default/files/blogs/wound_infection.jpg', 'https://cdn.ps.emap.com/wp-content/uploads/sites/3/2018/06/M2800174-Leg_ulcer-SPL_660.jpg']\n"
     ]
    },
    {
     "name": "stderr",
     "output_type": "stream",
     "text": [
      "\n"
     ]
    }
   ],
   "source": [
    "from simple_image_download import simple_image_download as simp\n",
    "\n",
    "response = simp.simple_image_download\n",
    "\n",
    "response().download('infected wound', 50)\n",
    "\n",
    "print(response().urls('infected wound', 50))"
   ]
  }
 ],
 "metadata": {
  "kernelspec": {
   "display_name": "Python (learn-env)",
   "language": "python",
   "name": "learn-env"
  },
  "language_info": {
   "codemirror_mode": {
    "name": "ipython",
    "version": 3
   },
   "file_extension": ".py",
   "mimetype": "text/x-python",
   "name": "python",
   "nbconvert_exporter": "python",
   "pygments_lexer": "ipython3",
   "version": "3.8.5"
  }
 },
 "nbformat": 4,
 "nbformat_minor": 4
}
