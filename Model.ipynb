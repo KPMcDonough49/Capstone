{
  "nbformat": 4,
  "nbformat_minor": 0,
  "metadata": {
    "colab": {
      "name": "Model.ipynb",
      "provenance": [],
      "collapsed_sections": [],
      "include_colab_link": true
    },
    "kernelspec": {
      "display_name": "Python 3",
      "name": "python3"
    },
    "language_info": {
      "name": "python"
    }
  },
  "cells": [
    {
      "cell_type": "markdown",
      "metadata": {
        "id": "view-in-github",
        "colab_type": "text"
      },
      "source": [
        "<a href=\"https://colab.research.google.com/github/KPMcDonough49/Capstone/blob/main/Model.ipynb\" target=\"_parent\"><img src=\"https://colab.research.google.com/assets/colab-badge.svg\" alt=\"Open In Colab\"/></a>"
      ]
    },
    {
      "cell_type": "code",
      "metadata": {
        "id": "x59-6Yb_0XtJ"
      },
      "source": [
        "import numpy as np\n",
        "import pandas as pd \n",
        "from keras.preprocessing.image import ImageDataGenerator, load_img, image\n",
        "from sklearn.model_selection import train_test_split\n",
        "import matplotlib.pyplot as plt\n",
        "import random\n",
        "import os\n",
        "from keras.models import Sequential\n",
        "from keras.layers import Conv2D, MaxPooling2D, Dropout, Flatten, Dense, Activation, BatchNormalization\n",
        "from sklearn.metrics import confusion_matrix, accuracy_score, precision_score, recall_score, f1_score, classification_report\n",
        "import shutil\n",
        "from keras.callbacks import ModelCheckpoint\n",
        "from keras.models import load_model\n",
        "import seaborn as sns\n",
        "import matplotlib.pyplot as plt\n",
        "from keras.applications.imagenet_utils import decode_predictions\n",
        "import skimage.io \n",
        "import skimage.segmentation\n",
        "import copy\n",
        "import sklearn\n",
        "import sklearn.metrics\n",
        "from sklearn.linear_model import LinearRegression\n",
        "import warnings"
      ],
      "execution_count": null,
      "outputs": []
    },
    {
      "cell_type": "code",
      "metadata": {
        "colab": {
          "base_uri": "https://localhost:8080/"
        },
        "id": "WWv9Cgn81a-v",
        "outputId": "b891151d-21a7-4370-da32-c1182b5dfa9d"
      },
      "source": [
        "from google.colab import drive\n",
        "drive.mount('/content/drive')"
      ],
      "execution_count": null,
      "outputs": [
        {
          "output_type": "stream",
          "text": [
            "Mounted at /content/drive\n"
          ],
          "name": "stdout"
        }
      ]
    },
    {
      "cell_type": "markdown",
      "metadata": {
        "id": "DNqXUl9k0Xtq"
      },
      "source": [
        "## Model Building "
      ]
    },
    {
      "cell_type": "code",
      "metadata": {
        "id": "Yfiarqnr0Xtr"
      },
      "source": [
        "image_width = 300\n",
        "image_height = 300\n",
        "image_channels = 3\n",
        "image_size = (image_width, image_height)\n",
        "batch_size = 10"
      ],
      "execution_count": null,
      "outputs": []
    },
    {
      "cell_type": "code",
      "metadata": {
        "id": "WsWsCB6t0Xts"
      },
      "source": [
        "train_datagen = ImageDataGenerator(rescale=1./255,)"
      ],
      "execution_count": null,
      "outputs": []
    },
    {
      "cell_type": "code",
      "metadata": {
        "colab": {
          "base_uri": "https://localhost:8080/"
        },
        "id": "AgAJTiKt0Xts",
        "outputId": "da1d8700-9ea4-4a1b-8bee-4b2c948690d3"
      },
      "source": [
        "train_generator = train_datagen.flow_from_directory(\n",
        "    \"/content/drive/MyDrive/Aug_Images\",\n",
        "    target_size=image_size,\n",
        "    color_mode='rgb',\n",
        "    class_mode='categorical',\n",
        "    batch_size=batch_size,\n",
        "    shuffle=True\n",
        ")"
      ],
      "execution_count": null,
      "outputs": [
        {
          "output_type": "stream",
          "text": [
            "Found 2514 images belonging to 2 classes.\n"
          ],
          "name": "stdout"
        }
      ]
    },
    {
      "cell_type": "code",
      "metadata": {
        "id": "0_gR2d940Xtt"
      },
      "source": [
        "total_train = len(train_generator.filenames)"
      ],
      "execution_count": null,
      "outputs": []
    },
    {
      "cell_type": "code",
      "metadata": {
        "id": "AoLfVVp_0Xtu"
      },
      "source": [
        "test_datagen = ImageDataGenerator(rescale=1./255)"
      ],
      "execution_count": null,
      "outputs": []
    },
    {
      "cell_type": "code",
      "metadata": {
        "colab": {
          "base_uri": "https://localhost:8080/"
        },
        "id": "rIaLYESD0Xtu",
        "outputId": "785a88e8-18c4-42c8-80fd-65d0df612e1f"
      },
      "source": [
        "test_generator = test_datagen.flow_from_directory(\n",
        "    \"/content/drive/MyDrive/test\", \n",
        "    target_size=image_size,\n",
        "    color_mode='rgb',\n",
        "    class_mode='categorical',\n",
        "    batch_size=batch_size,\n",
        "    shuffle=False \n",
        ")"
      ],
      "execution_count": null,
      "outputs": [
        {
          "output_type": "stream",
          "text": [
            "Found 302 images belonging to 2 classes.\n"
          ],
          "name": "stdout"
        }
      ]
    },
    {
      "cell_type": "code",
      "metadata": {
        "id": "X5Hk5gwP0Xtv"
      },
      "source": [
        "total_test = len(test_generator.filenames)"
      ],
      "execution_count": null,
      "outputs": []
    },
    {
      "cell_type": "code",
      "metadata": {
        "colab": {
          "base_uri": "https://localhost:8080/"
        },
        "id": "YG5lpg8H0Xtv",
        "outputId": "baa58dbf-5e4e-46f8-da81-92f807e7e4f0"
      },
      "source": [
        "model = Sequential()\n",
        "\n",
        "model.add(Conv2D(32, (3, 3), activation='relu', input_shape=(image_width, image_height, image_channels)))\n",
        "model.add(BatchNormalization())\n",
        "model.add(MaxPooling2D(pool_size=(2, 2)))\n",
        "model.add(Dropout(0.25))\n",
        "\n",
        "model.add(Conv2D(64, (3, 3), activation='relu'))\n",
        "model.add(BatchNormalization())\n",
        "model.add(Dropout(0.25))\n",
        "\n",
        "model.add(Flatten())\n",
        "model.add(Dense(128, activation='relu'))\n",
        "model.add(BatchNormalization())\n",
        "model.add(Dropout(0.5))\n",
        "model.add(Dense(2, activation='softmax'))\n",
        "\n",
        "model.compile(loss='categorical_crossentropy', optimizer='adam', metrics=['accuracy'])\n",
        "\n",
        "filepath=\"/content/drive/MyDrive/weights.best.hdf5\"\n",
        "checkpoint = ModelCheckpoint(filepath, monitor='val_accuracy', verbose=1, save_best_only=True, mode='max')\n",
        "callbacks_list = [checkpoint]\n",
        "\n",
        "model.summary()"
      ],
      "execution_count": null,
      "outputs": [
        {
          "output_type": "stream",
          "text": [
            "Model: \"sequential\"\n",
            "_________________________________________________________________\n",
            "Layer (type)                 Output Shape              Param #   \n",
            "=================================================================\n",
            "conv2d (Conv2D)              (None, 298, 298, 32)      896       \n",
            "_________________________________________________________________\n",
            "batch_normalization (BatchNo (None, 298, 298, 32)      128       \n",
            "_________________________________________________________________\n",
            "max_pooling2d (MaxPooling2D) (None, 149, 149, 32)      0         \n",
            "_________________________________________________________________\n",
            "dropout (Dropout)            (None, 149, 149, 32)      0         \n",
            "_________________________________________________________________\n",
            "conv2d_1 (Conv2D)            (None, 147, 147, 64)      18496     \n",
            "_________________________________________________________________\n",
            "batch_normalization_1 (Batch (None, 147, 147, 64)      256       \n",
            "_________________________________________________________________\n",
            "dropout_1 (Dropout)          (None, 147, 147, 64)      0         \n",
            "_________________________________________________________________\n",
            "flatten (Flatten)            (None, 1382976)           0         \n",
            "_________________________________________________________________\n",
            "dense (Dense)                (None, 128)               177021056 \n",
            "_________________________________________________________________\n",
            "batch_normalization_2 (Batch (None, 128)               512       \n",
            "_________________________________________________________________\n",
            "dropout_2 (Dropout)          (None, 128)               0         \n",
            "_________________________________________________________________\n",
            "dense_1 (Dense)              (None, 2)                 258       \n",
            "=================================================================\n",
            "Total params: 177,041,602\n",
            "Trainable params: 177,041,154\n",
            "Non-trainable params: 448\n",
            "_________________________________________________________________\n"
          ],
          "name": "stdout"
        }
      ]
    },
    {
      "cell_type": "code",
      "metadata": {
        "colab": {
          "base_uri": "https://localhost:8080/"
        },
        "id": "UFhDPtys0Xtw",
        "outputId": "940415bd-ae93-4233-eacf-4a7240f6e74f"
      },
      "source": [
        "epochs = 50\n",
        "\n",
        "history = model.fit(\n",
        "    train_generator, \n",
        "    epochs=epochs,\n",
        "    validation_data=test_generator,\n",
        "    batch_size=batch_size,\n",
        "    callbacks=callbacks_list\n",
        ")"
      ],
      "execution_count": null,
      "outputs": [
        {
          "output_type": "stream",
          "text": [
            "Epoch 1/50\n",
            "252/252 [==============================] - 1918s 7s/step - loss: 1.0880 - accuracy: 0.6335 - val_loss: 0.5354 - val_accuracy: 0.7318\n",
            "\n",
            "Epoch 00001: val_accuracy improved from -inf to 0.73179, saving model to /content/drive/MyDrive/weights.best.hdf5\n",
            "Epoch 2/50\n",
            "252/252 [==============================] - 34s 133ms/step - loss: 0.5586 - accuracy: 0.7603 - val_loss: 0.8151 - val_accuracy: 0.5993\n",
            "\n",
            "Epoch 00002: val_accuracy did not improve from 0.73179\n",
            "Epoch 3/50\n",
            "252/252 [==============================] - 35s 139ms/step - loss: 0.5227 - accuracy: 0.7666 - val_loss: 0.5011 - val_accuracy: 0.7815\n",
            "\n",
            "Epoch 00003: val_accuracy improved from 0.73179 to 0.78146, saving model to /content/drive/MyDrive/weights.best.hdf5\n",
            "Epoch 4/50\n",
            "252/252 [==============================] - 35s 136ms/step - loss: 0.4592 - accuracy: 0.7992 - val_loss: 0.4858 - val_accuracy: 0.7715\n",
            "\n",
            "Epoch 00004: val_accuracy did not improve from 0.78146\n",
            "Epoch 5/50\n",
            "252/252 [==============================] - 33s 129ms/step - loss: 0.4104 - accuracy: 0.8231 - val_loss: 0.6027 - val_accuracy: 0.7219\n",
            "\n",
            "Epoch 00005: val_accuracy did not improve from 0.78146\n",
            "Epoch 6/50\n",
            "252/252 [==============================] - 34s 133ms/step - loss: 0.3926 - accuracy: 0.8307 - val_loss: 0.3747 - val_accuracy: 0.8245\n",
            "\n",
            "Epoch 00006: val_accuracy improved from 0.78146 to 0.82450, saving model to /content/drive/MyDrive/weights.best.hdf5\n",
            "Epoch 7/50\n",
            "252/252 [==============================] - 34s 135ms/step - loss: 0.4229 - accuracy: 0.8146 - val_loss: 0.9489 - val_accuracy: 0.5662\n",
            "\n",
            "Epoch 00007: val_accuracy did not improve from 0.82450\n",
            "Epoch 8/50\n",
            "252/252 [==============================] - 35s 137ms/step - loss: 0.4237 - accuracy: 0.8106 - val_loss: 1.0657 - val_accuracy: 0.5596\n",
            "\n",
            "Epoch 00008: val_accuracy did not improve from 0.82450\n",
            "Epoch 9/50\n",
            "252/252 [==============================] - 33s 131ms/step - loss: 0.3734 - accuracy: 0.8344 - val_loss: 1.2014 - val_accuracy: 0.5894\n",
            "\n",
            "Epoch 00009: val_accuracy did not improve from 0.82450\n",
            "Epoch 10/50\n",
            "252/252 [==============================] - 34s 135ms/step - loss: 0.3406 - accuracy: 0.8497 - val_loss: 0.4564 - val_accuracy: 0.8046\n",
            "\n",
            "Epoch 00010: val_accuracy did not improve from 0.82450\n",
            "Epoch 11/50\n",
            "252/252 [==============================] - 33s 131ms/step - loss: 0.3409 - accuracy: 0.8492 - val_loss: 4.9269 - val_accuracy: 0.5033\n",
            "\n",
            "Epoch 00011: val_accuracy did not improve from 0.82450\n",
            "Epoch 12/50\n",
            "252/252 [==============================] - 34s 135ms/step - loss: 0.3419 - accuracy: 0.8505 - val_loss: 0.5835 - val_accuracy: 0.7185\n",
            "\n",
            "Epoch 00012: val_accuracy did not improve from 0.82450\n",
            "Epoch 13/50\n",
            "252/252 [==============================] - 33s 129ms/step - loss: 0.3141 - accuracy: 0.8627 - val_loss: 0.3231 - val_accuracy: 0.8609\n",
            "\n",
            "Epoch 00013: val_accuracy improved from 0.82450 to 0.86093, saving model to /content/drive/MyDrive/weights.best.hdf5\n",
            "Epoch 14/50\n",
            "252/252 [==============================] - 39s 144ms/step - loss: 0.2838 - accuracy: 0.8934 - val_loss: 0.6303 - val_accuracy: 0.7351\n",
            "\n",
            "Epoch 00014: val_accuracy did not improve from 0.86093\n",
            "Epoch 15/50\n",
            "252/252 [==============================] - 35s 137ms/step - loss: 0.2480 - accuracy: 0.9063 - val_loss: 0.3130 - val_accuracy: 0.8775\n",
            "\n",
            "Epoch 00015: val_accuracy improved from 0.86093 to 0.87748, saving model to /content/drive/MyDrive/weights.best.hdf5\n",
            "Epoch 16/50\n",
            "252/252 [==============================] - 38s 143ms/step - loss: 0.2668 - accuracy: 0.8975 - val_loss: 0.4920 - val_accuracy: 0.8179\n",
            "\n",
            "Epoch 00016: val_accuracy did not improve from 0.87748\n",
            "Epoch 17/50\n",
            "252/252 [==============================] - 33s 131ms/step - loss: 0.2127 - accuracy: 0.9228 - val_loss: 0.3807 - val_accuracy: 0.8642\n",
            "\n",
            "Epoch 00017: val_accuracy did not improve from 0.87748\n",
            "Epoch 18/50\n",
            "252/252 [==============================] - 34s 135ms/step - loss: 0.1921 - accuracy: 0.9278 - val_loss: 0.3007 - val_accuracy: 0.9040\n",
            "\n",
            "Epoch 00018: val_accuracy improved from 0.87748 to 0.90397, saving model to /content/drive/MyDrive/weights.best.hdf5\n",
            "Epoch 19/50\n",
            "252/252 [==============================] - 38s 143ms/step - loss: 0.1929 - accuracy: 0.9252 - val_loss: 0.4220 - val_accuracy: 0.8642\n",
            "\n",
            "Epoch 00019: val_accuracy did not improve from 0.90397\n",
            "Epoch 20/50\n",
            "252/252 [==============================] - 34s 136ms/step - loss: 0.1539 - accuracy: 0.9456 - val_loss: 0.4722 - val_accuracy: 0.8245\n",
            "\n",
            "Epoch 00020: val_accuracy did not improve from 0.90397\n",
            "Epoch 21/50\n",
            "252/252 [==============================] - 35s 138ms/step - loss: 0.1411 - accuracy: 0.9491 - val_loss: 0.3673 - val_accuracy: 0.8742\n",
            "\n",
            "Epoch 00021: val_accuracy did not improve from 0.90397\n",
            "Epoch 22/50\n",
            "252/252 [==============================] - 34s 133ms/step - loss: 0.1422 - accuracy: 0.9473 - val_loss: 0.3494 - val_accuracy: 0.8940\n",
            "\n",
            "Epoch 00022: val_accuracy did not improve from 0.90397\n",
            "Epoch 23/50\n",
            "252/252 [==============================] - 34s 136ms/step - loss: 0.1587 - accuracy: 0.9471 - val_loss: 0.3152 - val_accuracy: 0.8642\n",
            "\n",
            "Epoch 00023: val_accuracy did not improve from 0.90397\n",
            "Epoch 24/50\n",
            "252/252 [==============================] - 34s 136ms/step - loss: 0.2482 - accuracy: 0.8987 - val_loss: 0.7239 - val_accuracy: 0.7185\n",
            "\n",
            "Epoch 00024: val_accuracy did not improve from 0.90397\n",
            "Epoch 25/50\n",
            "252/252 [==============================] - 33s 130ms/step - loss: 0.2233 - accuracy: 0.9159 - val_loss: 0.3112 - val_accuracy: 0.8742\n",
            "\n",
            "Epoch 00025: val_accuracy did not improve from 0.90397\n",
            "Epoch 26/50\n",
            "252/252 [==============================] - 35s 138ms/step - loss: 0.2213 - accuracy: 0.9111 - val_loss: 0.3665 - val_accuracy: 0.8742\n",
            "\n",
            "Epoch 00026: val_accuracy did not improve from 0.90397\n",
            "Epoch 27/50\n",
            "252/252 [==============================] - 33s 129ms/step - loss: 0.1700 - accuracy: 0.9450 - val_loss: 0.4125 - val_accuracy: 0.8444\n",
            "\n",
            "Epoch 00027: val_accuracy did not improve from 0.90397\n",
            "Epoch 28/50\n",
            "252/252 [==============================] - 35s 138ms/step - loss: 0.1528 - accuracy: 0.9423 - val_loss: 0.4105 - val_accuracy: 0.8675\n",
            "\n",
            "Epoch 00028: val_accuracy did not improve from 0.90397\n",
            "Epoch 29/50\n",
            "252/252 [==============================] - 33s 130ms/step - loss: 0.1466 - accuracy: 0.9393 - val_loss: 0.3935 - val_accuracy: 0.8775\n",
            "\n",
            "Epoch 00029: val_accuracy did not improve from 0.90397\n",
            "Epoch 30/50\n",
            "252/252 [==============================] - 34s 137ms/step - loss: 0.1363 - accuracy: 0.9474 - val_loss: 0.7856 - val_accuracy: 0.7848\n",
            "\n",
            "Epoch 00030: val_accuracy did not improve from 0.90397\n",
            "Epoch 31/50\n",
            "252/252 [==============================] - 32s 127ms/step - loss: 0.1419 - accuracy: 0.9380 - val_loss: 0.4779 - val_accuracy: 0.8377\n",
            "\n",
            "Epoch 00031: val_accuracy did not improve from 0.90397\n",
            "Epoch 32/50\n",
            "252/252 [==============================] - 34s 135ms/step - loss: 0.1039 - accuracy: 0.9580 - val_loss: 0.4787 - val_accuracy: 0.8477\n",
            "\n",
            "Epoch 00032: val_accuracy did not improve from 0.90397\n",
            "Epoch 33/50\n",
            "252/252 [==============================] - 35s 137ms/step - loss: 0.1414 - accuracy: 0.9450 - val_loss: 1.0421 - val_accuracy: 0.7715\n",
            "\n",
            "Epoch 00033: val_accuracy did not improve from 0.90397\n",
            "Epoch 34/50\n",
            "252/252 [==============================] - 33s 131ms/step - loss: 0.1268 - accuracy: 0.9502 - val_loss: 0.4125 - val_accuracy: 0.8775\n",
            "\n",
            "Epoch 00034: val_accuracy did not improve from 0.90397\n",
            "Epoch 35/50\n",
            "252/252 [==============================] - 34s 136ms/step - loss: 0.0896 - accuracy: 0.9670 - val_loss: 0.4719 - val_accuracy: 0.8411\n",
            "\n",
            "Epoch 00035: val_accuracy did not improve from 0.90397\n",
            "Epoch 36/50\n",
            "252/252 [==============================] - 33s 131ms/step - loss: 0.0931 - accuracy: 0.9620 - val_loss: 0.4139 - val_accuracy: 0.8841\n",
            "\n",
            "Epoch 00036: val_accuracy did not improve from 0.90397\n",
            "Epoch 37/50\n",
            "252/252 [==============================] - 34s 135ms/step - loss: 0.1316 - accuracy: 0.9577 - val_loss: 0.7799 - val_accuracy: 0.7881\n",
            "\n",
            "Epoch 00037: val_accuracy did not improve from 0.90397\n",
            "Epoch 38/50\n",
            "252/252 [==============================] - 32s 129ms/step - loss: 0.0923 - accuracy: 0.9662 - val_loss: 0.3921 - val_accuracy: 0.8675\n",
            "\n",
            "Epoch 00038: val_accuracy did not improve from 0.90397\n",
            "Epoch 39/50\n",
            "252/252 [==============================] - 35s 137ms/step - loss: 0.0918 - accuracy: 0.9726 - val_loss: 0.5244 - val_accuracy: 0.8709\n",
            "\n",
            "Epoch 00039: val_accuracy did not improve from 0.90397\n",
            "Epoch 40/50\n",
            "252/252 [==============================] - 33s 130ms/step - loss: 0.0797 - accuracy: 0.9723 - val_loss: 0.3757 - val_accuracy: 0.8874\n",
            "\n",
            "Epoch 00040: val_accuracy did not improve from 0.90397\n",
            "Epoch 41/50\n",
            "252/252 [==============================] - 34s 135ms/step - loss: 0.0625 - accuracy: 0.9760 - val_loss: 0.4287 - val_accuracy: 0.8775\n",
            "\n",
            "Epoch 00041: val_accuracy did not improve from 0.90397\n",
            "Epoch 42/50\n",
            "252/252 [==============================] - 32s 126ms/step - loss: 0.0887 - accuracy: 0.9698 - val_loss: 0.4729 - val_accuracy: 0.8609\n",
            "\n",
            "Epoch 00042: val_accuracy did not improve from 0.90397\n",
            "Epoch 43/50\n",
            "252/252 [==============================] - 34s 133ms/step - loss: 0.0868 - accuracy: 0.9707 - val_loss: 0.5553 - val_accuracy: 0.8642\n",
            "\n",
            "Epoch 00043: val_accuracy did not improve from 0.90397\n",
            "Epoch 44/50\n",
            "252/252 [==============================] - 34s 137ms/step - loss: 0.0640 - accuracy: 0.9762 - val_loss: 0.4820 - val_accuracy: 0.8675\n",
            "\n",
            "Epoch 00044: val_accuracy did not improve from 0.90397\n",
            "Epoch 45/50\n",
            "252/252 [==============================] - 32s 127ms/step - loss: 0.0809 - accuracy: 0.9707 - val_loss: 0.7037 - val_accuracy: 0.8377\n",
            "\n",
            "Epoch 00045: val_accuracy did not improve from 0.90397\n",
            "Epoch 46/50\n",
            "252/252 [==============================] - 33s 130ms/step - loss: 0.0550 - accuracy: 0.9792 - val_loss: 0.7820 - val_accuracy: 0.8245\n",
            "\n",
            "Epoch 00046: val_accuracy did not improve from 0.90397\n",
            "Epoch 47/50\n",
            "252/252 [==============================] - 32s 126ms/step - loss: 0.0905 - accuracy: 0.9653 - val_loss: 0.5108 - val_accuracy: 0.8675\n",
            "\n",
            "Epoch 00047: val_accuracy did not improve from 0.90397\n",
            "Epoch 48/50\n",
            "252/252 [==============================] - 33s 130ms/step - loss: 0.0745 - accuracy: 0.9719 - val_loss: 0.4901 - val_accuracy: 0.8477\n",
            "\n",
            "Epoch 00048: val_accuracy did not improve from 0.90397\n",
            "Epoch 49/50\n",
            "252/252 [==============================] - 33s 131ms/step - loss: 0.0563 - accuracy: 0.9797 - val_loss: 0.4778 - val_accuracy: 0.8841\n",
            "\n",
            "Epoch 00049: val_accuracy did not improve from 0.90397\n",
            "Epoch 50/50\n",
            "252/252 [==============================] - 34s 133ms/step - loss: 0.0712 - accuracy: 0.9747 - val_loss: 0.5491 - val_accuracy: 0.8609\n",
            "\n",
            "Epoch 00050: val_accuracy did not improve from 0.90397\n"
          ],
          "name": "stdout"
        }
      ]
    },
    {
      "cell_type": "code",
      "metadata": {
        "id": "utm0j_bG-yh2"
      },
      "source": [
        "best_model = load_model(\"/content/drive/MyDrive/weights.best.hdf5\")"
      ],
      "execution_count": null,
      "outputs": []
    },
    {
      "cell_type": "code",
      "metadata": {
        "id": "s_aWy3sk-nmw"
      },
      "source": [
        "best_model.save('my_model.h5')"
      ],
      "execution_count": null,
      "outputs": []
    },
    {
      "cell_type": "code",
      "metadata": {
        "id": "bSM4smUu0Xty"
      },
      "source": [
        "y_pred = best_model.predict(test_generator)"
      ],
      "execution_count": null,
      "outputs": []
    },
    {
      "cell_type": "code",
      "metadata": {
        "id": "ia--3C6s0Xty"
      },
      "source": [
        "test_preds = np.argmax(y_pred, axis=-1)"
      ],
      "execution_count": null,
      "outputs": []
    },
    {
      "cell_type": "code",
      "metadata": {
        "colab": {
          "base_uri": "https://localhost:8080/"
        },
        "id": "IZSHLK2J0Xtz",
        "outputId": "bf916f06-1943-4d75-fd6f-bd871e8766c3"
      },
      "source": [
        "conf = confusion_matrix(test_generator.classes, test_preds)\n",
        "conf"
      ],
      "execution_count": null,
      "outputs": [
        {
          "output_type": "execute_result",
          "data": {
            "text/plain": [
              "array([[139,  12],\n",
              "       [ 17, 134]])"
            ]
          },
          "metadata": {
            "tags": []
          },
          "execution_count": 14
        }
      ]
    },
    {
      "cell_type": "code",
      "metadata": {
        "colab": {
          "base_uri": "https://localhost:8080/"
        },
        "id": "lomcrBzT0Xt0",
        "outputId": "a201ef69-3741-4604-abe0-d094a3d24b96"
      },
      "source": [
        "test_generator.class_indices"
      ],
      "execution_count": null,
      "outputs": [
        {
          "output_type": "execute_result",
          "data": {
            "text/plain": [
              "{'Infection': 0, 'No_Infection': 1}"
            ]
          },
          "metadata": {
            "tags": []
          },
          "execution_count": 15
        }
      ]
    },
    {
      "cell_type": "code",
      "metadata": {
        "colab": {
          "base_uri": "https://localhost:8080/",
          "height": 279
        },
        "id": "CGzKzSRyAIRA",
        "outputId": "e227b763-f2e3-4f1d-c0cb-1aeec0cfc724"
      },
      "source": [
        "group_names = ['True Pos', 'False Neg','False Pos','True Neg']\n",
        "\n",
        "group_counts = [\"{0:0.0f}\".format(value) for value in\n",
        "                conf.flatten()]\n",
        "group_percentages = [\"{0:.2%}\".format(value) for value in\n",
        "                     conf.flatten()/np.sum(conf)]\n",
        "               \n",
        "labels = [f\"{v1}\\n{v2}\\n{v3}\" for v1, v2, v3 in\n",
        "          zip(group_names,group_counts,group_percentages)]\n",
        "\n",
        "labels = np.asarray(labels).reshape(2,2)\n",
        "sns.heatmap(conf, annot=labels, fmt='', cmap='Blues', xticklabels=['Infection', 'No Infection'], yticklabels=['Infection', 'No Infection']);\n",
        "plt.ylabel('Actual');\n",
        "plt.xlabel('Predicted');"
      ],
      "execution_count": null,
      "outputs": [
        {
          "output_type": "display_data",
          "data": {
            "image/png": "[encoded data removed]",
            "text/plain": [
              "<Figure size 432x288 with 2 Axes>"
            ]
          },
          "metadata": {
            "tags": [],
            "needs_background": "light"
          }
        }
      ]
    },
    {
      "cell_type": "code",
      "metadata": {
        "id": "jOwbUjU8AIq1"
      },
      "source": [
        "acc = history.history['accuracy']\n",
        "val_acc = history.history['val_accuracy']\n",
        "loss = history.history['loss']\n",
        "val_loss = history.history['val_loss']\n",
        "epochs = range(len(acc))"
      ],
      "execution_count": null,
      "outputs": []
    },
    {
      "cell_type": "code",
      "metadata": {
        "colab": {
          "base_uri": "https://localhost:8080/",
          "height": 404
        },
        "id": "1hn40sJRTHZ0",
        "outputId": "a48c9b94-2e0d-4b92-84cb-8f86d650f680"
      },
      "source": [
        "plt.figure(figsize=(8,6))\n",
        "plt.plot(epochs, acc, 'g', label='Training Acc')\n",
        "plt.plot(epochs, val_acc, 'b', label='Validation Acc')\n",
        "plt.title('Training and Validation Accuracy')\n",
        "plt.xlabel('Epochs')\n",
        "plt.legend();\n"
      ],
      "execution_count": null,
      "outputs": [
        {
          "output_type": "display_data",
          "data": {
            "image/png": "[encoded data removed]",
            "text/plain": [
              "<Figure size 576x432 with 1 Axes>"
            ]
          },
          "metadata": {
            "tags": [],
            "needs_background": "light"
          }
        }
      ]
    },
    {
      "cell_type": "code",
      "metadata": {
        "colab": {
          "base_uri": "https://localhost:8080/",
          "height": 281
        },
        "id": "C8-YRALBTH5O",
        "outputId": "7ad48b8f-4810-46f3-ff24-897eca7330b6"
      },
      "source": [
        "plt.figure()\n",
        "plt.plot(epochs, val_loss, 'b', label='Validation Loss')\n",
        "plt.plot(epochs, loss, 'g', label='Training Loss')\n",
        "plt.title('Training and Validation Loss')\n",
        "plt.legend()\n",
        "plt.show()"
      ],
      "execution_count": null,
      "outputs": [
        {
          "output_type": "display_data",
          "data": {
            "image/png": "[encoded data removed]",
            "text/plain": [
              "<Figure size 432x288 with 1 Axes>"
            ]
          },
          "metadata": {
            "tags": [],
            "needs_background": "light"
          }
        }
      ]
    }
  ]
}